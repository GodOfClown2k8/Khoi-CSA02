{
 "cells": [
  {
   "cell_type": "code",
   "execution_count": 7,
   "metadata": {},
   "outputs": [
    {
     "data": {
      "text/html": [
       "<div>\n",
       "<style scoped>\n",
       "    .dataframe tbody tr th:only-of-type {\n",
       "        vertical-align: middle;\n",
       "    }\n",
       "\n",
       "    .dataframe tbody tr th {\n",
       "        vertical-align: top;\n",
       "    }\n",
       "\n",
       "    .dataframe thead th {\n",
       "        text-align: right;\n",
       "    }\n",
       "</style>\n",
       "<table border=\"1\" class=\"dataframe\">\n",
       "  <thead>\n",
       "    <tr style=\"text-align: right;\">\n",
       "      <th></th>\n",
       "      <th>Name</th>\n",
       "      <th>Division</th>\n",
       "      <th>Region</th>\n",
       "      <th>Area</th>\n",
       "      <th>Population</th>\n",
       "    </tr>\n",
       "  </thead>\n",
       "  <tbody>\n",
       "    <tr>\n",
       "      <th>0</th>\n",
       "      <td>Thành phố Hà Nội</td>\n",
       "      <td>Thành phố Trung ương</td>\n",
       "      <td>Đồng bằng sông Hồng</td>\n",
       "      <td>3358.6</td>\n",
       "      <td>8093.9</td>\n",
       "    </tr>\n",
       "    <tr>\n",
       "      <th>1</th>\n",
       "      <td>Tỉnh Hà Giang</td>\n",
       "      <td>Tỉnh</td>\n",
       "      <td>Đông Bắc Bộ</td>\n",
       "      <td>7929.5</td>\n",
       "      <td>858.1</td>\n",
       "    </tr>\n",
       "    <tr>\n",
       "      <th>2</th>\n",
       "      <td>Tỉnh Cao Bằng</td>\n",
       "      <td>Tỉnh</td>\n",
       "      <td>Đông Bắc Bộ</td>\n",
       "      <td>6700.3</td>\n",
       "      <td>530.9</td>\n",
       "    </tr>\n",
       "    <tr>\n",
       "      <th>3</th>\n",
       "      <td>Tỉnh Bắc Kạn</td>\n",
       "      <td>Tỉnh</td>\n",
       "      <td>Đông Bắc Bộ</td>\n",
       "      <td>4860.0</td>\n",
       "      <td>314.4</td>\n",
       "    </tr>\n",
       "    <tr>\n",
       "      <th>4</th>\n",
       "      <td>Tỉnh Tuyên Quang</td>\n",
       "      <td>Tỉnh</td>\n",
       "      <td>Đông Bắc Bộ</td>\n",
       "      <td>5867.9</td>\n",
       "      <td>786.3</td>\n",
       "    </tr>\n",
       "    <tr>\n",
       "      <th>...</th>\n",
       "      <td>...</td>\n",
       "      <td>...</td>\n",
       "      <td>...</td>\n",
       "      <td>...</td>\n",
       "      <td>...</td>\n",
       "    </tr>\n",
       "    <tr>\n",
       "      <th>58</th>\n",
       "      <td>Thành phố Cần Thơ</td>\n",
       "      <td>Thành phố Trung ương</td>\n",
       "      <td>Đồng bằng sông Cửu Long</td>\n",
       "      <td>1439.0</td>\n",
       "      <td>1236.0</td>\n",
       "    </tr>\n",
       "    <tr>\n",
       "      <th>59</th>\n",
       "      <td>Tỉnh Hậu Giang</td>\n",
       "      <td>Tỉnh</td>\n",
       "      <td>Đồng bằng sông Cửu Long</td>\n",
       "      <td>1621.7</td>\n",
       "      <td>732.2</td>\n",
       "    </tr>\n",
       "    <tr>\n",
       "      <th>60</th>\n",
       "      <td>Tỉnh Sóc Trăng</td>\n",
       "      <td>Tỉnh</td>\n",
       "      <td>Đồng bằng sông Cửu Long</td>\n",
       "      <td>3311.9</td>\n",
       "      <td>1199.5</td>\n",
       "    </tr>\n",
       "    <tr>\n",
       "      <th>61</th>\n",
       "      <td>Tỉnh Bạc Liêu</td>\n",
       "      <td>Tỉnh</td>\n",
       "      <td>Đồng bằng sông Cửu Long</td>\n",
       "      <td>2669.0</td>\n",
       "      <td>908.2</td>\n",
       "    </tr>\n",
       "    <tr>\n",
       "      <th>62</th>\n",
       "      <td>Tỉnh Cà Mau</td>\n",
       "      <td>Tỉnh</td>\n",
       "      <td>Đồng bằng sông Cửu Long</td>\n",
       "      <td>5221.2</td>\n",
       "      <td>1194.3</td>\n",
       "    </tr>\n",
       "  </tbody>\n",
       "</table>\n",
       "<p>63 rows × 5 columns</p>\n",
       "</div>"
      ],
      "text/plain": [
       "                 Name              Division                   Region    Area  \\\n",
       "0    Thành phố Hà Nội  Thành phố Trung ương      Đồng bằng sông Hồng  3358.6   \n",
       "1       Tỉnh Hà Giang                  Tỉnh              Đông Bắc Bộ  7929.5   \n",
       "2       Tỉnh Cao Bằng                  Tỉnh              Đông Bắc Bộ  6700.3   \n",
       "3        Tỉnh Bắc Kạn                  Tỉnh              Đông Bắc Bộ  4860.0   \n",
       "4    Tỉnh Tuyên Quang                  Tỉnh              Đông Bắc Bộ  5867.9   \n",
       "..                ...                   ...                      ...     ...   \n",
       "58  Thành phố Cần Thơ  Thành phố Trung ương  Đồng bằng sông Cửu Long  1439.0   \n",
       "59     Tỉnh Hậu Giang                  Tỉnh  Đồng bằng sông Cửu Long  1621.7   \n",
       "60     Tỉnh Sóc Trăng                  Tỉnh  Đồng bằng sông Cửu Long  3311.9   \n",
       "61      Tỉnh Bạc Liêu                  Tỉnh  Đồng bằng sông Cửu Long  2669.0   \n",
       "62        Tỉnh Cà Mau                  Tỉnh  Đồng bằng sông Cửu Long  5221.2   \n",
       "\n",
       "    Population  \n",
       "0       8093.9  \n",
       "1        858.1  \n",
       "2        530.9  \n",
       "3        314.4  \n",
       "4        786.3  \n",
       "..         ...  \n",
       "58      1236.0  \n",
       "59       732.2  \n",
       "60      1199.5  \n",
       "61       908.2  \n",
       "62      1194.3  \n",
       "\n",
       "[63 rows x 5 columns]"
      ]
     },
     "execution_count": 7,
     "metadata": {},
     "output_type": "execute_result"
    }
   ],
   "source": [
    "import pandas as pd \n",
    "df = pd.read_excel('provinces.xlsx')\n",
    "df "
   ]
  },
  {
   "cell_type": "markdown",
   "metadata": {},
   "source": [
    "## Cau 1"
   ]
  },
  {
   "cell_type": "code",
   "execution_count": 23,
   "metadata": {},
   "outputs": [
    {
     "data": {
      "text/plain": [
       "'List of provinces and cities:  Thành phố Hà Nội, Tỉnh Tỉnh Hà Giang, Tỉnh Tỉnh Cao Bằng, Tỉnh Tỉnh Bắc Kạn, Tỉnh Tỉnh Tuyên Quang, Tỉnh Tỉnh Lào Cai, Tỉnh Tỉnh Điện Biên, Tỉnh Tỉnh Lai Châu, Tỉnh Tỉnh Sơn La, Tỉnh Tỉnh Yên Bái, Tỉnh Tỉnh Hoà Bình, Tỉnh Tỉnh Thái Nguyên, Tỉnh Tỉnh Lạng Sơn, Tỉnh Tỉnh Quảng Ninh, Tỉnh Tỉnh Bắc Giang, Tỉnh Tỉnh Phú Thọ, Tỉnh Tỉnh Vĩnh Phúc, Tỉnh Tỉnh Bắc Ninh, Tỉnh Tỉnh Hải Dương, Thành phố Hải Phòng, Tỉnh Tỉnh Hưng Yên, Tỉnh Tỉnh Thái Bình, Tỉnh Tỉnh Hà Nam, Tỉnh Tỉnh Nam Định, Tỉnh Tỉnh Ninh Bình, Tỉnh Tỉnh Thanh Hóa, Tỉnh Tỉnh Nghệ An, Tỉnh Tỉnh Hà Tĩnh, Tỉnh Tỉnh Quảng Bình, Tỉnh Tỉnh Quảng Trị, Tỉnh Tỉnh Thừa Thiên Huế, Thành phố Đà Nẵng, Tỉnh Tỉnh Quảng Nam, Tỉnh Tỉnh Quảng Ngãi, Tỉnh Tỉnh Bình Định, Tỉnh Tỉnh Phú Yên, Tỉnh Tỉnh Khánh Hòa, Tỉnh Tỉnh Ninh Thuận, Tỉnh Tỉnh Bình Thuận, Tỉnh Tỉnh Kon Tum, Tỉnh Tỉnh Gia Lai, Tỉnh Tỉnh Đắk Lắk, Tỉnh Tỉnh Đắk Nông, Tỉnh Tỉnh Lâm Đồng, Tỉnh Tỉnh Bình Phước, Tỉnh Tỉnh Tây Ninh, Tỉnh Tỉnh Bình Dương, Tỉnh Tỉnh Đồng Nai, Tỉnh Tỉnh Bà Rịa - Vũng Tàu, Thành phố Hồ Chí Minh, Tỉnh Tỉnh Long An, Tỉnh Tỉnh Tiền Giang, Tỉnh Tỉnh Bến Tre, Tỉnh Tỉnh Trà Vinh, Tỉnh Tỉnh Vĩnh Long, Tỉnh Tỉnh Đồng Tháp, Tỉnh Tỉnh An Giang, Tỉnh Tỉnh Kiên Giang, Thành phố Cần Thơ, Tỉnh Tỉnh Hậu Giang, Tỉnh Tỉnh Sóc Trăng, Tỉnh Tỉnh Bạc Liêu, Tỉnh Tỉnh Cà Mau, '"
      ]
     },
     "execution_count": 23,
     "metadata": {},
     "output_type": "execute_result"
    }
   ],
   "source": [
    "formatted_list = \"List of provinces and cities:  \"\n",
    "\n",
    "for province in df['Name']:\n",
    "    if \"Thành phố\" in province:\n",
    "        formatted_list += f\"{province}, \"\n",
    "    else:\n",
    "        formatted_list += f\"Tỉnh {province}, \"\n",
    "\n",
    "formatted_list = formatted_list.rstrip(',\\n')\n",
    "formatted_list\n"
   ]
  },
  {
   "cell_type": "markdown",
   "metadata": {},
   "source": [
    "## Cau 2"
   ]
  },
  {
   "cell_type": "code",
   "execution_count": 31,
   "metadata": {},
   "outputs": [
    {
     "name": "stdout",
     "output_type": "stream",
     "text": [
      "Thành phố: Thành phố Hà Nội, Vùng: Thành phố Trung ương\n",
      "Thành phố: Tỉnh Hà Giang, Vùng: Tỉnh\n",
      "Thành phố: Tỉnh Cao Bằng, Vùng: Tỉnh\n",
      "Thành phố: Tỉnh Bắc Kạn, Vùng: Tỉnh\n",
      "Thành phố: Tỉnh Tuyên Quang, Vùng: Tỉnh\n",
      "Thành phố: Tỉnh Lào Cai, Vùng: Tỉnh\n",
      "Thành phố: Tỉnh Điện Biên, Vùng: Tỉnh\n",
      "Thành phố: Tỉnh Lai Châu, Vùng: Tỉnh\n",
      "Thành phố: Tỉnh Sơn La, Vùng: Tỉnh\n",
      "Thành phố: Tỉnh Yên Bái, Vùng: Tỉnh\n",
      "Thành phố: Tỉnh Hoà Bình, Vùng: Tỉnh\n",
      "Thành phố: Tỉnh Thái Nguyên, Vùng: Tỉnh\n",
      "Thành phố: Tỉnh Lạng Sơn, Vùng: Tỉnh\n",
      "Thành phố: Tỉnh Quảng Ninh, Vùng: Tỉnh\n",
      "Thành phố: Tỉnh Bắc Giang, Vùng: Tỉnh\n",
      "Thành phố: Tỉnh Phú Thọ, Vùng: Tỉnh\n",
      "Thành phố: Tỉnh Vĩnh Phúc, Vùng: Tỉnh\n",
      "Thành phố: Tỉnh Bắc Ninh, Vùng: Tỉnh\n",
      "Thành phố: Tỉnh Hải Dương, Vùng: Tỉnh\n",
      "Thành phố: Thành phố Hải Phòng, Vùng: Thành phố Trung ương\n",
      "Thành phố: Tỉnh Hưng Yên, Vùng: Tỉnh\n",
      "Thành phố: Tỉnh Thái Bình, Vùng: Tỉnh\n",
      "Thành phố: Tỉnh Hà Nam, Vùng: Tỉnh\n",
      "Thành phố: Tỉnh Nam Định, Vùng: Tỉnh\n",
      "Thành phố: Tỉnh Ninh Bình, Vùng: Tỉnh\n",
      "Thành phố: Tỉnh Thanh Hóa, Vùng: Tỉnh\n",
      "Thành phố: Tỉnh Nghệ An, Vùng: Tỉnh\n",
      "Thành phố: Tỉnh Hà Tĩnh, Vùng: Tỉnh\n",
      "Thành phố: Tỉnh Quảng Bình, Vùng: Tỉnh\n",
      "Thành phố: Tỉnh Quảng Trị, Vùng: Tỉnh\n",
      "Thành phố: Tỉnh Thừa Thiên Huế, Vùng: Tỉnh\n",
      "Thành phố: Thành phố Đà Nẵng, Vùng: Thành phố Trung ương\n",
      "Thành phố: Tỉnh Quảng Nam, Vùng: Tỉnh\n",
      "Thành phố: Tỉnh Quảng Ngãi, Vùng: Tỉnh\n",
      "Thành phố: Tỉnh Bình Định, Vùng: Tỉnh\n",
      "Thành phố: Tỉnh Phú Yên, Vùng: Tỉnh\n",
      "Thành phố: Tỉnh Khánh Hòa, Vùng: Tỉnh\n",
      "Thành phố: Tỉnh Ninh Thuận, Vùng: Tỉnh\n",
      "Thành phố: Tỉnh Bình Thuận, Vùng: Tỉnh\n",
      "Thành phố: Tỉnh Kon Tum, Vùng: Tỉnh\n",
      "Thành phố: Tỉnh Gia Lai, Vùng: Tỉnh\n",
      "Thành phố: Tỉnh Đắk Lắk, Vùng: Tỉnh\n",
      "Thành phố: Tỉnh Đắk Nông, Vùng: Tỉnh\n",
      "Thành phố: Tỉnh Lâm Đồng, Vùng: Tỉnh\n",
      "Thành phố: Tỉnh Bình Phước, Vùng: Tỉnh\n",
      "Thành phố: Tỉnh Tây Ninh, Vùng: Tỉnh\n",
      "Thành phố: Tỉnh Bình Dương, Vùng: Tỉnh\n",
      "Thành phố: Tỉnh Đồng Nai, Vùng: Tỉnh\n",
      "Thành phố: Tỉnh Bà Rịa - Vũng Tàu, Vùng: Tỉnh\n",
      "Thành phố: Thành phố Hồ Chí Minh, Vùng: Thành phố Trung ương\n",
      "Thành phố: Tỉnh Long An, Vùng: Tỉnh\n",
      "Thành phố: Tỉnh Tiền Giang, Vùng: Tỉnh\n",
      "Thành phố: Tỉnh Bến Tre, Vùng: Tỉnh\n",
      "Thành phố: Tỉnh Trà Vinh, Vùng: Tỉnh\n",
      "Thành phố: Tỉnh Vĩnh Long, Vùng: Tỉnh\n",
      "Thành phố: Tỉnh Đồng Tháp, Vùng: Tỉnh\n",
      "Thành phố: Tỉnh An Giang, Vùng: Tỉnh\n",
      "Thành phố: Tỉnh Kiên Giang, Vùng: Tỉnh\n",
      "Thành phố: Thành phố Cần Thơ, Vùng: Thành phố Trung ương\n",
      "Thành phố: Tỉnh Hậu Giang, Vùng: Tỉnh\n",
      "Thành phố: Tỉnh Sóc Trăng, Vùng: Tỉnh\n",
      "Thành phố: Tỉnh Bạc Liêu, Vùng: Tỉnh\n",
      "Thành phố: Tỉnh Cà Mau, Vùng: Tỉnh\n"
     ]
    }
   ],
   "source": [
    "result_list = []\n",
    "\n",
    "for index in range(len(df)):\n",
    "    city = df['Name'][index]\n",
    "    province = df['Division'][index]\n",
    "    result_list.append(f\"Thành phố: {city}, Vùng: {province}\")\n",
    "\n",
    "for result in result_list : \n",
    "    print(result)\n"
   ]
  },
  {
   "cell_type": "markdown",
   "metadata": {},
   "source": [
    "## Cau 3\n"
   ]
  },
  {
   "cell_type": "code",
   "execution_count": 33,
   "metadata": {},
   "outputs": [
    {
     "name": "stdout",
     "output_type": "stream",
     "text": [
      "Số vùng địa lý ở Việt Nam: 8\n",
      "Số tỉnh thành trong vùng 'Bắc Trung Bộ': 6\n",
      "Số tỉnh thành trong vùng 'Nam Trung Bộ': 8\n",
      "Số tỉnh thành trong vùng 'Tây Bắc Bộ': 6\n",
      "Số tỉnh thành trong vùng 'Tây Nguyên': 5\n",
      "Số tỉnh thành trong vùng 'Đông Bắc Bộ': 9\n",
      "Số tỉnh thành trong vùng 'Đông Nam Bộ': 6\n",
      "Số tỉnh thành trong vùng 'Đồng bằng sông Cửu Long': 13\n",
      "Số tỉnh thành trong vùng 'Đồng bằng sông Hồng': 10\n"
     ]
    }
   ],
   "source": [
    "unique_regions = df['Region'].unique()\n",
    "number_of_regions = len(unique_regions)\n",
    "\n",
    "print(f\"Số vùng địa lý ở Việt Nam: {number_of_regions}\")\n",
    "\n",
    "province_count_per_region = df.groupby('Region')['Division'].count()\n",
    "\n",
    "for region, count in province_count_per_region.items():\n",
    "    print(f\"Số tỉnh thành trong vùng '{region}': {count}\")\n"
   ]
  },
  {
   "cell_type": "markdown",
   "metadata": {},
   "source": [
    "## Cau 4\n"
   ]
  },
  {
   "cell_type": "code",
   "execution_count": 34,
   "metadata": {},
   "outputs": [
    {
     "name": "stdout",
     "output_type": "stream",
     "text": [
      "Tỉnh/Thành phố có dân số đông nhất: Thành phố Hồ Chí Minh với dân số 9038.6 người\n",
      "Tỉnh/Thành phố có dân số ít nhất: Tỉnh Bắc Kạn với dân số 314.4 người\n"
     ]
    }
   ],
   "source": [
    "max_population_row = df.loc[df['Population'].idxmax()]\n",
    "max_population_name = max_population_row['Name']\n",
    "max_population_value = max_population_row['Population']\n",
    "\n",
    "min_population_row = df.loc[df['Population'].idxmin()]\n",
    "min_population_name = min_population_row['Name']\n",
    "min_population_value = min_population_row['Population']\n",
    "\n",
    "print(f\"Tỉnh/Thành phố có dân số đông nhất: {max_population_name} với dân số {max_population_value} người\")\n",
    "print(f\"Tỉnh/Thành phố có dân số ít nhất: {min_population_name} với dân số {min_population_value} người\")\n"
   ]
  }
 ],
 "metadata": {
  "kernelspec": {
   "display_name": "Python 3",
   "language": "python",
   "name": "python3"
  },
  "language_info": {
   "codemirror_mode": {
    "name": "ipython",
    "version": 3
   },
   "file_extension": ".py",
   "mimetype": "text/x-python",
   "name": "python",
   "nbconvert_exporter": "python",
   "pygments_lexer": "ipython3",
   "version": "3.12.4"
  }
 },
 "nbformat": 4,
 "nbformat_minor": 2
}
